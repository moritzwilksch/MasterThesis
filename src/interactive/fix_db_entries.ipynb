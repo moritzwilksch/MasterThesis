{
 "cells": [
  {
   "cell_type": "code",
   "execution_count": 142,
   "id": "10f04dfa",
   "metadata": {},
   "outputs": [],
   "source": [
    "from rich import print\n",
    "from src.utils.db import get_client\n",
    "DB = get_client()[\"thesis\"][\"labeled_tweets\"]"
   ]
  },
  {
   "cell_type": "code",
   "execution_count": 229,
   "id": "fb523b45",
   "metadata": {},
   "outputs": [
    {
     "data": {
      "text/html": [
       "<pre style=\"white-space:pre;overflow-x:auto;line-height:normal;font-family:Menlo,'DejaVu Sans Mono',consolas,'Courier New',monospace\"><span style=\"font-weight: bold\">[</span>\n",
       "    <span style=\"font-weight: bold\">{</span>\n",
       "        <span style=\"color: #008000; text-decoration-color: #008000\">'_id'</span>: <span style=\"color: #800080; text-decoration-color: #800080; font-weight: bold\">ObjectId</span><span style=\"font-weight: bold\">(</span><span style=\"color: #008000; text-decoration-color: #008000\">'62920140a2f513497a2dae1a'</span><span style=\"font-weight: bold\">)</span>,\n",
       "        <span style=\"color: #008000; text-decoration-color: #008000\">'id'</span>: <span style=\"color: #008000; text-decoration-color: #008000\">'1496851543580196868'</span>,\n",
       "        <span style=\"color: #008000; text-decoration-color: #008000\">'text'</span>: <span style=\"color: #008000; text-decoration-color: #008000\">'$SHIB reasons to own                                       1.) Truly </span>\n",
       "<span style=\"color: #008000; text-decoration-color: #008000\">Decentralized                     2.) Most widely held Crypto in the world.\\n3.) Limited </span>\n",
       "<span style=\"color: #008000; text-decoration-color: #008000\">Supply                         4.)  ShibaSwap DEX                    5.) Gaming- $ATVI       </span>\n",
       "<span style=\"color: #008000; text-decoration-color: #008000\">6.) Metaverse- $MSFT'</span>,\n",
       "        <span style=\"color: #008000; text-decoration-color: #008000\">'label'</span>: <span style=\"color: #008000; text-decoration-color: #008000\">'1'</span>\n",
       "    <span style=\"font-weight: bold\">}</span>,\n",
       "    <span style=\"font-weight: bold\">{</span>\n",
       "        <span style=\"color: #008000; text-decoration-color: #008000\">'_id'</span>: <span style=\"color: #800080; text-decoration-color: #800080; font-weight: bold\">ObjectId</span><span style=\"font-weight: bold\">(</span><span style=\"color: #008000; text-decoration-color: #008000\">'62920140a2f513497a2db86c'</span><span style=\"font-weight: bold\">)</span>,\n",
       "        <span style=\"color: #008000; text-decoration-color: #008000\">'id'</span>: <span style=\"color: #008000; text-decoration-color: #008000\">'1457151656089501701'</span>,\n",
       "        <span style=\"color: #008000; text-decoration-color: #008000\">'text'</span>: <span style=\"color: #008000; text-decoration-color: #008000\">'@ArkadiuszKula @WholeMarsBlog @elonmusk That’s a poor argument!! Don’t you </span>\n",
       "<span style=\"color: #008000; text-decoration-color: #008000\">think?\\n\\nAnd where is a “ good stuff “ of competition compared to $TSLA?\\nIt is not ready to</span>\n",
       "<span style=\"color: #008000; text-decoration-color: #008000\">even try to compete with FSD.\\nWe are talking about the relative position of Tesla and </span>\n",
       "<span style=\"color: #008000; text-decoration-color: #008000\">competition.\\nIn 2-3 years time and you will see.\\n$TSLA'</span>,\n",
       "        <span style=\"color: #008000; text-decoration-color: #008000\">'label'</span>: <span style=\"color: #008000; text-decoration-color: #008000\">'3'</span>\n",
       "    <span style=\"font-weight: bold\">}</span>,\n",
       "    <span style=\"font-weight: bold\">{</span>\n",
       "        <span style=\"color: #008000; text-decoration-color: #008000\">'_id'</span>: <span style=\"color: #800080; text-decoration-color: #800080; font-weight: bold\">ObjectId</span><span style=\"font-weight: bold\">(</span><span style=\"color: #008000; text-decoration-color: #008000\">'62920140a2f513497a2db546'</span><span style=\"font-weight: bold\">)</span>,\n",
       "        <span style=\"color: #008000; text-decoration-color: #008000\">'id'</span>: <span style=\"color: #008000; text-decoration-color: #008000\">'1471747103877652480'</span>,\n",
       "        <span style=\"color: #008000; text-decoration-color: #008000\">'text'</span>: <span style=\"color: #008000; text-decoration-color: #008000\">'On the other hand #Tesla is trying to build a brand for fans. A quad for </span>\n",
       "<span style=\"color: #008000; text-decoration-color: #008000\">kids and a new smartphone! Are they trying to be #Apple $AAPL $TSLA'</span>,\n",
       "        <span style=\"color: #008000; text-decoration-color: #008000\">'label'</span>: <span style=\"color: #008000; text-decoration-color: #008000\">'1'</span>\n",
       "    <span style=\"font-weight: bold\">}</span>\n",
       "<span style=\"font-weight: bold\">]</span>\n",
       "</pre>\n"
      ],
      "text/plain": [
       "\u001b[1m[\u001b[0m\n",
       "    \u001b[1m{\u001b[0m\n",
       "        \u001b[32m'_id'\u001b[0m: \u001b[1;35mObjectId\u001b[0m\u001b[1m(\u001b[0m\u001b[32m'62920140a2f513497a2dae1a'\u001b[0m\u001b[1m)\u001b[0m,\n",
       "        \u001b[32m'id'\u001b[0m: \u001b[32m'1496851543580196868'\u001b[0m,\n",
       "        \u001b[32m'text'\u001b[0m: \u001b[32m'$SHIB reasons to own                                       1.\u001b[0m\u001b[32m)\u001b[0m\u001b[32m Truly \u001b[0m\n",
       "\u001b[32mDecentralized                     2.\u001b[0m\u001b[32m)\u001b[0m\u001b[32m Most widely held Crypto in the world.\\n3.\u001b[0m\u001b[32m)\u001b[0m\u001b[32m Limited \u001b[0m\n",
       "\u001b[32mSupply                         4.\u001b[0m\u001b[32m)\u001b[0m\u001b[32m  ShibaSwap DEX                    5.\u001b[0m\u001b[32m)\u001b[0m\u001b[32m Gaming- $ATVI       \u001b[0m\n",
       "\u001b[32m6.\u001b[0m\u001b[32m)\u001b[0m\u001b[32m Metaverse- $MSFT'\u001b[0m,\n",
       "        \u001b[32m'label'\u001b[0m: \u001b[32m'1'\u001b[0m\n",
       "    \u001b[1m}\u001b[0m,\n",
       "    \u001b[1m{\u001b[0m\n",
       "        \u001b[32m'_id'\u001b[0m: \u001b[1;35mObjectId\u001b[0m\u001b[1m(\u001b[0m\u001b[32m'62920140a2f513497a2db86c'\u001b[0m\u001b[1m)\u001b[0m,\n",
       "        \u001b[32m'id'\u001b[0m: \u001b[32m'1457151656089501701'\u001b[0m,\n",
       "        \u001b[32m'text'\u001b[0m: \u001b[32m'@ArkadiuszKula @WholeMarsBlog @elonmusk That’s a poor argument!! Don’t you \u001b[0m\n",
       "\u001b[32mthink?\\n\\nAnd where is a “ good stuff “ of competition compared to $TSLA?\\nIt is not ready to\u001b[0m\n",
       "\u001b[32meven try to compete with FSD.\\nWe are talking about the relative position of Tesla and \u001b[0m\n",
       "\u001b[32mcompetition.\\nIn 2-3 years time and you will see.\\n$TSLA'\u001b[0m,\n",
       "        \u001b[32m'label'\u001b[0m: \u001b[32m'3'\u001b[0m\n",
       "    \u001b[1m}\u001b[0m,\n",
       "    \u001b[1m{\u001b[0m\n",
       "        \u001b[32m'_id'\u001b[0m: \u001b[1;35mObjectId\u001b[0m\u001b[1m(\u001b[0m\u001b[32m'62920140a2f513497a2db546'\u001b[0m\u001b[1m)\u001b[0m,\n",
       "        \u001b[32m'id'\u001b[0m: \u001b[32m'1471747103877652480'\u001b[0m,\n",
       "        \u001b[32m'text'\u001b[0m: \u001b[32m'On the other hand #Tesla is trying to build a brand for fans. A quad for \u001b[0m\n",
       "\u001b[32mkids and a new smartphone! Are they trying to be #Apple $AAPL $TSLA'\u001b[0m,\n",
       "        \u001b[32m'label'\u001b[0m: \u001b[32m'1'\u001b[0m\n",
       "    \u001b[1m}\u001b[0m\n",
       "\u001b[1m]\u001b[0m\n"
      ]
     },
     "metadata": {},
     "output_type": "display_data"
    }
   ],
   "source": [
    "res = DB.find({\"label\": {\"$ne\": \"\"}}, projection={\"_id\": True, \"id\": True, \"text\": True, \"label\": True}, sort=[(\"labeled_at\", -1)]).limit(3)\n",
    "res = list(res)\n",
    "print(res)\n",
    "\n",
    "most_recent_id = res[0].get(\"id\")"
   ]
  },
  {
   "cell_type": "code",
   "execution_count": 227,
   "id": "67f5ed4c",
   "metadata": {},
   "outputs": [
    {
     "data": {
      "text/html": [
       "<pre style=\"white-space:pre;overflow-x:auto;line-height:normal;font-family:Menlo,'DejaVu Sans Mono',consolas,'Courier New',monospace\"><span style=\"color: #008080; text-decoration-color: #008080; font-weight: bold\">1392607844638339073</span>\n",
       "</pre>\n"
      ],
      "text/plain": [
       "\u001b[1;36m1392607844638339073\u001b[0m\n"
      ]
     },
     "metadata": {},
     "output_type": "display_data"
    }
   ],
   "source": [
    "print(most_recent_id)"
   ]
  },
  {
   "cell_type": "code",
   "execution_count": 228,
   "id": "e882ae32",
   "metadata": {},
   "outputs": [
    {
     "data": {
      "text/html": [
       "<pre style=\"white-space:pre;overflow-x:auto;line-height:normal;font-family:Menlo,'DejaVu Sans Mono',consolas,'Courier New',monospace\"><span style=\"font-weight: bold\">{</span><span style=\"color: #008000; text-decoration-color: #008000\">'n'</span>: <span style=\"color: #008080; text-decoration-color: #008080; font-weight: bold\">1</span>, <span style=\"color: #008000; text-decoration-color: #008000\">'nModified'</span>: <span style=\"color: #008080; text-decoration-color: #008080; font-weight: bold\">1</span>, <span style=\"color: #008000; text-decoration-color: #008000\">'ok'</span>: <span style=\"color: #008080; text-decoration-color: #008080; font-weight: bold\">1.0</span>, <span style=\"color: #008000; text-decoration-color: #008000\">'updatedExisting'</span>: <span style=\"color: #00ff00; text-decoration-color: #00ff00; font-style: italic\">True</span><span style=\"font-weight: bold\">}</span>\n",
       "</pre>\n"
      ],
      "text/plain": [
       "\u001b[1m{\u001b[0m\u001b[32m'n'\u001b[0m: \u001b[1;36m1\u001b[0m, \u001b[32m'nModified'\u001b[0m: \u001b[1;36m1\u001b[0m, \u001b[32m'ok'\u001b[0m: \u001b[1;36m1.0\u001b[0m, \u001b[32m'updatedExisting'\u001b[0m: \u001b[3;92mTrue\u001b[0m\u001b[1m}\u001b[0m\n"
      ]
     },
     "metadata": {},
     "output_type": "display_data"
    }
   ],
   "source": [
    "ID_TO_UPDATE = most_recent_id #\"1517129063814418433\"\n",
    "NEW_LABEL = \"3\"\n",
    "\n",
    "ack = DB.update_one({\"id\": ID_TO_UPDATE}, {\"$set\": {\"label\": NEW_LABEL}})\n",
    "print(ack.raw_result)"
   ]
  },
  {
   "cell_type": "code",
   "execution_count": null,
   "id": "a0808923",
   "metadata": {},
   "outputs": [],
   "source": []
  }
 ],
 "metadata": {
  "kernelspec": {
   "display_name": "Python 3 (ipykernel)",
   "language": "python",
   "name": "python3"
  },
  "language_info": {
   "codemirror_mode": {
    "name": "ipython",
    "version": 3
   },
   "file_extension": ".py",
   "mimetype": "text/x-python",
   "name": "python",
   "nbconvert_exporter": "python",
   "pygments_lexer": "ipython3",
   "version": "3.9.12"
  }
 },
 "nbformat": 4,
 "nbformat_minor": 5
}
