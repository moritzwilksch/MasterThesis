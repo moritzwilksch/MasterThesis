{
 "cells": [
  {
   "cell_type": "code",
   "execution_count": 20,
   "id": "10f04dfa",
   "metadata": {},
   "outputs": [],
   "source": [
    "from rich import print\n",
    "from src.utils.db import get_client\n",
    "DB = get_client()[\"thesis\"][\"labeled_tweets\"]"
   ]
  },
  {
   "cell_type": "code",
   "execution_count": 78,
   "id": "fb523b45",
   "metadata": {},
   "outputs": [
    {
     "data": {
      "text/html": [
       "<pre style=\"white-space:pre;overflow-x:auto;line-height:normal;font-family:Menlo,'DejaVu Sans Mono',consolas,'Courier New',monospace\"><span style=\"font-weight: bold\">[</span>\n",
       "    <span style=\"font-weight: bold\">{</span>\n",
       "        <span style=\"color: #008000; text-decoration-color: #008000\">'_id'</span>: <span style=\"color: #800080; text-decoration-color: #800080; font-weight: bold\">ObjectId</span><span style=\"font-weight: bold\">(</span><span style=\"color: #008000; text-decoration-color: #008000\">'62920140a2f513497a2dbd14'</span><span style=\"font-weight: bold\">)</span>,\n",
       "        <span style=\"color: #008000; text-decoration-color: #008000\">'id'</span>: <span style=\"color: #008000; text-decoration-color: #008000\">'1519021980066136071'</span>,\n",
       "        <span style=\"color: #008000; text-decoration-color: #008000\">'text'</span>: <span style=\"color: #008000; text-decoration-color: #008000\">'$TSLA tech er today after close.  This could run back to $1k \\nBut depending</span>\n",
       "<span style=\"color: #008000; text-decoration-color: #008000\">on $MSFT $GOOGL $AAPL ️'</span>,\n",
       "        <span style=\"color: #008000; text-decoration-color: #008000\">'label'</span>: <span style=\"color: #008000; text-decoration-color: #008000\">'0'</span>\n",
       "    <span style=\"font-weight: bold\">}</span>,\n",
       "    <span style=\"font-weight: bold\">{</span>\n",
       "        <span style=\"color: #008000; text-decoration-color: #008000\">'_id'</span>: <span style=\"color: #800080; text-decoration-color: #800080; font-weight: bold\">ObjectId</span><span style=\"font-weight: bold\">(</span><span style=\"color: #008000; text-decoration-color: #008000\">'62920140a2f513497a2dafb3'</span><span style=\"font-weight: bold\">)</span>,\n",
       "        <span style=\"color: #008000; text-decoration-color: #008000\">'id'</span>: <span style=\"color: #008000; text-decoration-color: #008000\">'1466096837996290049'</span>,\n",
       "        <span style=\"color: #008000; text-decoration-color: #008000\">'text'</span>: <span style=\"color: #008000; text-decoration-color: #008000\">\"@followtheh Gulp! We're going through another revolution &amp;amp; you're going </span>\n",
       "<span style=\"color: #008000; text-decoration-color: #008000\">to tell me that $NVDA &amp;amp; $AMD won't be needed? A.I., robots, autonomous vehicles, </span>\n",
       "<span style=\"color: #008000; text-decoration-color: #008000\">improving networks(5G &amp;amp; 6G), conversion of ICE vehicles to BEV's.  It's timestamped! </span>\n",
       "<span style=\"color: #008000; text-decoration-color: #008000\">$NVDA $328.96 $AMD $157.28\"</span>,\n",
       "        <span style=\"color: #008000; text-decoration-color: #008000\">'label'</span>: <span style=\"color: #008000; text-decoration-color: #008000\">'1'</span>\n",
       "    <span style=\"font-weight: bold\">}</span>,\n",
       "    <span style=\"font-weight: bold\">{</span>\n",
       "        <span style=\"color: #008000; text-decoration-color: #008000\">'_id'</span>: <span style=\"color: #800080; text-decoration-color: #800080; font-weight: bold\">ObjectId</span><span style=\"font-weight: bold\">(</span><span style=\"color: #008000; text-decoration-color: #008000\">'62920140a2f513497a2db72c'</span><span style=\"font-weight: bold\">)</span>,\n",
       "        <span style=\"color: #008000; text-decoration-color: #008000\">'id'</span>: <span style=\"color: #008000; text-decoration-color: #008000\">'1491106835658596358'</span>,\n",
       "        <span style=\"color: #008000; text-decoration-color: #008000\">'text'</span>: <span style=\"color: #008000; text-decoration-color: #008000\">'$C  FWP  Citigroup   (8 Feb, 12:47pm)\\n\\n📄 Offering Summary\\n\\n\\n\\n#C #FWP </span>\n",
       "<span style=\"color: #008000; text-decoration-color: #008000\">#Citigroup'</span>,\n",
       "        <span style=\"color: #008000; text-decoration-color: #008000\">'label'</span>: <span style=\"color: #008000; text-decoration-color: #008000\">'2'</span>\n",
       "    <span style=\"font-weight: bold\">}</span>\n",
       "<span style=\"font-weight: bold\">]</span>\n",
       "</pre>\n"
      ],
      "text/plain": [
       "\u001b[1m[\u001b[0m\n",
       "    \u001b[1m{\u001b[0m\n",
       "        \u001b[32m'_id'\u001b[0m: \u001b[1;35mObjectId\u001b[0m\u001b[1m(\u001b[0m\u001b[32m'62920140a2f513497a2dbd14'\u001b[0m\u001b[1m)\u001b[0m,\n",
       "        \u001b[32m'id'\u001b[0m: \u001b[32m'1519021980066136071'\u001b[0m,\n",
       "        \u001b[32m'text'\u001b[0m: \u001b[32m'$TSLA tech er today after close.  This could run back to $1k \\nBut depending\u001b[0m\n",
       "\u001b[32mon $MSFT $GOOGL $AAPL ️'\u001b[0m,\n",
       "        \u001b[32m'label'\u001b[0m: \u001b[32m'0'\u001b[0m\n",
       "    \u001b[1m}\u001b[0m,\n",
       "    \u001b[1m{\u001b[0m\n",
       "        \u001b[32m'_id'\u001b[0m: \u001b[1;35mObjectId\u001b[0m\u001b[1m(\u001b[0m\u001b[32m'62920140a2f513497a2dafb3'\u001b[0m\u001b[1m)\u001b[0m,\n",
       "        \u001b[32m'id'\u001b[0m: \u001b[32m'1466096837996290049'\u001b[0m,\n",
       "        \u001b[32m'text'\u001b[0m: \u001b[32m\"@followtheh Gulp! We're going through another revolution &amp; you're going \u001b[0m\n",
       "\u001b[32mto tell me that $NVDA &amp; $AMD won't be needed? A.I., robots, autonomous vehicles, \u001b[0m\n",
       "\u001b[32mimproving networks\u001b[0m\u001b[32m(\u001b[0m\u001b[32m5G &amp; 6G\u001b[0m\u001b[32m)\u001b[0m\u001b[32m, conversion of ICE vehicles to BEV's.  It's timestamped! \u001b[0m\n",
       "\u001b[32m$NVDA $328.96 $AMD $157.28\"\u001b[0m,\n",
       "        \u001b[32m'label'\u001b[0m: \u001b[32m'1'\u001b[0m\n",
       "    \u001b[1m}\u001b[0m,\n",
       "    \u001b[1m{\u001b[0m\n",
       "        \u001b[32m'_id'\u001b[0m: \u001b[1;35mObjectId\u001b[0m\u001b[1m(\u001b[0m\u001b[32m'62920140a2f513497a2db72c'\u001b[0m\u001b[1m)\u001b[0m,\n",
       "        \u001b[32m'id'\u001b[0m: \u001b[32m'1491106835658596358'\u001b[0m,\n",
       "        \u001b[32m'text'\u001b[0m: \u001b[32m'$C  FWP  Citigroup   \u001b[0m\u001b[32m(\u001b[0m\u001b[32m8 Feb, 12:47pm\u001b[0m\u001b[32m)\u001b[0m\u001b[32m\\n\\n📄 Offering Summary\\n\\n\\n\\n#C #FWP \u001b[0m\n",
       "\u001b[32m#Citigroup'\u001b[0m,\n",
       "        \u001b[32m'label'\u001b[0m: \u001b[32m'2'\u001b[0m\n",
       "    \u001b[1m}\u001b[0m\n",
       "\u001b[1m]\u001b[0m\n"
      ]
     },
     "metadata": {},
     "output_type": "display_data"
    }
   ],
   "source": [
    "res = DB.find({\"label\": {\"$ne\": \"\"}}, projection={\"_id\": True, \"id\": True, \"text\": True, \"label\": True}, sort=[(\"labeled_at\", -1)]).limit(3)\n",
    "res = list(res)\n",
    "print(res)\n",
    "\n",
    "most_recent_id = res[0].get(\"id\")"
   ]
  },
  {
   "cell_type": "code",
   "execution_count": 79,
   "id": "67f5ed4c",
   "metadata": {},
   "outputs": [
    {
     "data": {
      "text/html": [
       "<pre style=\"white-space:pre;overflow-x:auto;line-height:normal;font-family:Menlo,'DejaVu Sans Mono',consolas,'Courier New',monospace\"><span style=\"color: #008080; text-decoration-color: #008080; font-weight: bold\">1519021980066136071</span>\n",
       "</pre>\n"
      ],
      "text/plain": [
       "\u001b[1;36m1519021980066136071\u001b[0m\n"
      ]
     },
     "metadata": {},
     "output_type": "display_data"
    }
   ],
   "source": [
    "print(most_recent_id)"
   ]
  },
  {
   "cell_type": "code",
   "execution_count": 80,
   "id": "e882ae32",
   "metadata": {},
   "outputs": [
    {
     "data": {
      "text/html": [
       "<pre style=\"white-space:pre;overflow-x:auto;line-height:normal;font-family:Menlo,'DejaVu Sans Mono',consolas,'Courier New',monospace\"><span style=\"font-weight: bold\">{</span><span style=\"color: #008000; text-decoration-color: #008000\">'n'</span>: <span style=\"color: #008080; text-decoration-color: #008080; font-weight: bold\">1</span>, <span style=\"color: #008000; text-decoration-color: #008000\">'nModified'</span>: <span style=\"color: #008080; text-decoration-color: #008080; font-weight: bold\">1</span>, <span style=\"color: #008000; text-decoration-color: #008000\">'ok'</span>: <span style=\"color: #008080; text-decoration-color: #008080; font-weight: bold\">1.0</span>, <span style=\"color: #008000; text-decoration-color: #008000\">'updatedExisting'</span>: <span style=\"color: #00ff00; text-decoration-color: #00ff00; font-style: italic\">True</span><span style=\"font-weight: bold\">}</span>\n",
       "</pre>\n"
      ],
      "text/plain": [
       "\u001b[1m{\u001b[0m\u001b[32m'n'\u001b[0m: \u001b[1;36m1\u001b[0m, \u001b[32m'nModified'\u001b[0m: \u001b[1;36m1\u001b[0m, \u001b[32m'ok'\u001b[0m: \u001b[1;36m1.0\u001b[0m, \u001b[32m'updatedExisting'\u001b[0m: \u001b[3;92mTrue\u001b[0m\u001b[1m}\u001b[0m\n"
      ]
     },
     "metadata": {},
     "output_type": "display_data"
    }
   ],
   "source": [
    "ID_TO_UPDATE = most_recent_id #\"1517129063814418433\"\n",
    "NEW_LABEL = \"1\"\n",
    "\n",
    "ack = DB.update_one({\"id\": ID_TO_UPDATE}, {\"$set\": {\"label\": NEW_LABEL}})\n",
    "print(ack.raw_result)"
   ]
  },
  {
   "cell_type": "code",
   "execution_count": null,
   "id": "a0808923",
   "metadata": {},
   "outputs": [],
   "source": []
  }
 ],
 "metadata": {
  "kernelspec": {
   "display_name": "Python 3 (ipykernel)",
   "language": "python",
   "name": "python3"
  },
  "language_info": {
   "codemirror_mode": {
    "name": "ipython",
    "version": 3
   },
   "file_extension": ".py",
   "mimetype": "text/x-python",
   "name": "python",
   "nbconvert_exporter": "python",
   "pygments_lexer": "ipython3",
   "version": "3.9.12"
  }
 },
 "nbformat": 4,
 "nbformat_minor": 5
}
