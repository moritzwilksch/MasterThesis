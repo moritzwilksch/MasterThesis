{
 "cells": [
  {
   "cell_type": "code",
   "execution_count": 142,
   "id": "10f04dfa",
   "metadata": {},
   "outputs": [],
   "source": [
    "from rich import print\n",
    "from src.utils.db import get_client\n",
    "DB = get_client()[\"thesis\"][\"labeled_tweets\"]"
   ]
  },
  {
   "cell_type": "code",
   "execution_count": 211,
   "id": "fb523b45",
   "metadata": {},
   "outputs": [
    {
     "data": {
      "text/html": [
       "<pre style=\"white-space:pre;overflow-x:auto;line-height:normal;font-family:Menlo,'DejaVu Sans Mono',consolas,'Courier New',monospace\"><span style=\"font-weight: bold\">[</span>\n",
       "    <span style=\"font-weight: bold\">{</span>\n",
       "        <span style=\"color: #008000; text-decoration-color: #008000\">'_id'</span>: <span style=\"color: #800080; text-decoration-color: #800080; font-weight: bold\">ObjectId</span><span style=\"font-weight: bold\">(</span><span style=\"color: #008000; text-decoration-color: #008000\">'62920140a2f513497a2d8c86'</span><span style=\"font-weight: bold\">)</span>,\n",
       "        <span style=\"color: #008000; text-decoration-color: #008000\">'id'</span>: <span style=\"color: #008000; text-decoration-color: #008000\">'1517482920059228160'</span>,\n",
       "        <span style=\"color: #008000; text-decoration-color: #008000\">'text'</span>: <span style=\"color: #008000; text-decoration-color: #008000\">\"$TWTR I'm going to by 20k shares at 52, just to make two dollars per share. </span>\n",
       "<span style=\"color: #008000; text-decoration-color: #008000\">40k profit sounds great. Not one share should be selling. ▶\"</span>,\n",
       "        <span style=\"color: #008000; text-decoration-color: #008000\">'label'</span>: <span style=\"color: #008000; text-decoration-color: #008000\">'1'</span>\n",
       "    <span style=\"font-weight: bold\">}</span>,\n",
       "    <span style=\"font-weight: bold\">{</span>\n",
       "        <span style=\"color: #008000; text-decoration-color: #008000\">'_id'</span>: <span style=\"color: #800080; text-decoration-color: #800080; font-weight: bold\">ObjectId</span><span style=\"font-weight: bold\">(</span><span style=\"color: #008000; text-decoration-color: #008000\">'62920140a2f513497a2db9bd'</span><span style=\"font-weight: bold\">)</span>,\n",
       "        <span style=\"color: #008000; text-decoration-color: #008000\">'id'</span>: <span style=\"color: #008000; text-decoration-color: #008000\">'1496518517058904076'</span>,\n",
       "        <span style=\"color: #008000; text-decoration-color: #008000\">'text'</span>: <span style=\"color: #008000; text-decoration-color: #008000\">'$tsla is retesting the lows before $spx $spy ? Hm'</span>,\n",
       "        <span style=\"color: #008000; text-decoration-color: #008000\">'label'</span>: <span style=\"color: #008000; text-decoration-color: #008000\">'3'</span>\n",
       "    <span style=\"font-weight: bold\">}</span>,\n",
       "    <span style=\"font-weight: bold\">{</span>\n",
       "        <span style=\"color: #008000; text-decoration-color: #008000\">'_id'</span>: <span style=\"color: #800080; text-decoration-color: #800080; font-weight: bold\">ObjectId</span><span style=\"font-weight: bold\">(</span><span style=\"color: #008000; text-decoration-color: #008000\">'62920140a2f513497a2da325'</span><span style=\"font-weight: bold\">)</span>,\n",
       "        <span style=\"color: #008000; text-decoration-color: #008000\">'id'</span>: <span style=\"color: #008000; text-decoration-color: #008000\">'1516476502002438145'</span>,\n",
       "        <span style=\"color: #008000; text-decoration-color: #008000\">'text'</span>: <span style=\"color: #008000; text-decoration-color: #008000\">'@RonWyden @DesignDreamer1 Elon Musk does not control Twitter, nor should he.</span>\n",
       "<span style=\"color: #008000; text-decoration-color: #008000\">Twitter doesn\\'t need or want Elon\\'s \"genius\" ideas like bringing hate speech back to </span>\n",
       "<span style=\"color: #008000; text-decoration-color: #008000\">$TWTR.'</span>,\n",
       "        <span style=\"color: #008000; text-decoration-color: #008000\">'label'</span>: <span style=\"color: #008000; text-decoration-color: #008000\">'3'</span>\n",
       "    <span style=\"font-weight: bold\">}</span>\n",
       "<span style=\"font-weight: bold\">]</span>\n",
       "</pre>\n"
      ],
      "text/plain": [
       "\u001b[1m[\u001b[0m\n",
       "    \u001b[1m{\u001b[0m\n",
       "        \u001b[32m'_id'\u001b[0m: \u001b[1;35mObjectId\u001b[0m\u001b[1m(\u001b[0m\u001b[32m'62920140a2f513497a2d8c86'\u001b[0m\u001b[1m)\u001b[0m,\n",
       "        \u001b[32m'id'\u001b[0m: \u001b[32m'1517482920059228160'\u001b[0m,\n",
       "        \u001b[32m'text'\u001b[0m: \u001b[32m\"$TWTR I'm going to by 20k shares at 52, just to make two dollars per share. \u001b[0m\n",
       "\u001b[32m40k profit sounds great. Not one share should be selling. ▶\"\u001b[0m,\n",
       "        \u001b[32m'label'\u001b[0m: \u001b[32m'1'\u001b[0m\n",
       "    \u001b[1m}\u001b[0m,\n",
       "    \u001b[1m{\u001b[0m\n",
       "        \u001b[32m'_id'\u001b[0m: \u001b[1;35mObjectId\u001b[0m\u001b[1m(\u001b[0m\u001b[32m'62920140a2f513497a2db9bd'\u001b[0m\u001b[1m)\u001b[0m,\n",
       "        \u001b[32m'id'\u001b[0m: \u001b[32m'1496518517058904076'\u001b[0m,\n",
       "        \u001b[32m'text'\u001b[0m: \u001b[32m'$tsla is retesting the lows before $spx $spy ? Hm'\u001b[0m,\n",
       "        \u001b[32m'label'\u001b[0m: \u001b[32m'3'\u001b[0m\n",
       "    \u001b[1m}\u001b[0m,\n",
       "    \u001b[1m{\u001b[0m\n",
       "        \u001b[32m'_id'\u001b[0m: \u001b[1;35mObjectId\u001b[0m\u001b[1m(\u001b[0m\u001b[32m'62920140a2f513497a2da325'\u001b[0m\u001b[1m)\u001b[0m,\n",
       "        \u001b[32m'id'\u001b[0m: \u001b[32m'1516476502002438145'\u001b[0m,\n",
       "        \u001b[32m'text'\u001b[0m: \u001b[32m'@RonWyden @DesignDreamer1 Elon Musk does not control Twitter, nor should he.\u001b[0m\n",
       "\u001b[32mTwitter doesn\\'t need or want Elon\\'s \"genius\" ideas like bringing hate speech back to \u001b[0m\n",
       "\u001b[32m$TWTR.'\u001b[0m,\n",
       "        \u001b[32m'label'\u001b[0m: \u001b[32m'3'\u001b[0m\n",
       "    \u001b[1m}\u001b[0m\n",
       "\u001b[1m]\u001b[0m\n"
      ]
     },
     "metadata": {},
     "output_type": "display_data"
    }
   ],
   "source": [
    "res = DB.find({\"label\": {\"$ne\": \"\"}}, projection={\"_id\": True, \"id\": True, \"text\": True, \"label\": True}, sort=[(\"labeled_at\", -1)]).limit(3)\n",
    "res = list(res)\n",
    "print(res)\n",
    "\n",
    "most_recent_id = res[0].get(\"id\")"
   ]
  },
  {
   "cell_type": "code",
   "execution_count": 206,
   "id": "67f5ed4c",
   "metadata": {},
   "outputs": [
    {
     "data": {
      "text/html": [
       "<pre style=\"white-space:pre;overflow-x:auto;line-height:normal;font-family:Menlo,'DejaVu Sans Mono',consolas,'Courier New',monospace\"><span style=\"color: #008080; text-decoration-color: #008080; font-weight: bold\">1516521411350876167</span>\n",
       "</pre>\n"
      ],
      "text/plain": [
       "\u001b[1;36m1516521411350876167\u001b[0m\n"
      ]
     },
     "metadata": {},
     "output_type": "display_data"
    }
   ],
   "source": [
    "print(most_recent_id)"
   ]
  },
  {
   "cell_type": "code",
   "execution_count": 207,
   "id": "e882ae32",
   "metadata": {},
   "outputs": [
    {
     "data": {
      "text/html": [
       "<pre style=\"white-space:pre;overflow-x:auto;line-height:normal;font-family:Menlo,'DejaVu Sans Mono',consolas,'Courier New',monospace\"><span style=\"font-weight: bold\">{</span><span style=\"color: #008000; text-decoration-color: #008000\">'n'</span>: <span style=\"color: #008080; text-decoration-color: #008080; font-weight: bold\">1</span>, <span style=\"color: #008000; text-decoration-color: #008000\">'nModified'</span>: <span style=\"color: #008080; text-decoration-color: #008080; font-weight: bold\">1</span>, <span style=\"color: #008000; text-decoration-color: #008000\">'ok'</span>: <span style=\"color: #008080; text-decoration-color: #008080; font-weight: bold\">1.0</span>, <span style=\"color: #008000; text-decoration-color: #008000\">'updatedExisting'</span>: <span style=\"color: #00ff00; text-decoration-color: #00ff00; font-style: italic\">True</span><span style=\"font-weight: bold\">}</span>\n",
       "</pre>\n"
      ],
      "text/plain": [
       "\u001b[1m{\u001b[0m\u001b[32m'n'\u001b[0m: \u001b[1;36m1\u001b[0m, \u001b[32m'nModified'\u001b[0m: \u001b[1;36m1\u001b[0m, \u001b[32m'ok'\u001b[0m: \u001b[1;36m1.0\u001b[0m, \u001b[32m'updatedExisting'\u001b[0m: \u001b[3;92mTrue\u001b[0m\u001b[1m}\u001b[0m\n"
      ]
     },
     "metadata": {},
     "output_type": "display_data"
    }
   ],
   "source": [
    "ID_TO_UPDATE = most_recent_id #\"1517129063814418433\"\n",
    "NEW_LABEL = \"0\"\n",
    "\n",
    "ack = DB.update_one({\"id\": ID_TO_UPDATE}, {\"$set\": {\"label\": NEW_LABEL}})\n",
    "print(ack.raw_result)"
   ]
  },
  {
   "cell_type": "code",
   "execution_count": null,
   "id": "a0808923",
   "metadata": {},
   "outputs": [],
   "source": []
  }
 ],
 "metadata": {
  "kernelspec": {
   "display_name": "Python 3 (ipykernel)",
   "language": "python",
   "name": "python3"
  },
  "language_info": {
   "codemirror_mode": {
    "name": "ipython",
    "version": 3
   },
   "file_extension": ".py",
   "mimetype": "text/x-python",
   "name": "python",
   "nbconvert_exporter": "python",
   "pygments_lexer": "ipython3",
   "version": "3.9.12"
  }
 },
 "nbformat": 4,
 "nbformat_minor": 5
}
