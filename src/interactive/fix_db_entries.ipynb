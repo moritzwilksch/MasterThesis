{
 "cells": [
  {
   "cell_type": "code",
   "execution_count": 2,
   "id": "10f04dfa",
   "metadata": {},
   "outputs": [],
   "source": [
    "from rich import print\n",
    "from src.utils.db import get_client\n",
    "DB = get_client()[\"thesis\"][\"labeled_tweets\"]"
   ]
  },
  {
   "cell_type": "code",
   "execution_count": 20,
   "id": "fb523b45",
   "metadata": {},
   "outputs": [
    {
     "data": {
      "text/html": [
       "<pre style=\"white-space:pre;overflow-x:auto;line-height:normal;font-family:Menlo,'DejaVu Sans Mono',consolas,'Courier New',monospace\"><span style=\"font-weight: bold\">[</span>\n",
       "    <span style=\"font-weight: bold\">{</span>\n",
       "        <span style=\"color: #008000; text-decoration-color: #008000\">'_id'</span>: <span style=\"color: #800080; text-decoration-color: #800080; font-weight: bold\">ObjectId</span><span style=\"font-weight: bold\">(</span><span style=\"color: #008000; text-decoration-color: #008000\">'62920140a2f513497a2db31d'</span><span style=\"font-weight: bold\">)</span>,\n",
       "        <span style=\"color: #008000; text-decoration-color: #008000\">'id'</span>: <span style=\"color: #008000; text-decoration-color: #008000\">'1426186117318127616'</span>,\n",
       "        <span style=\"color: #008000; text-decoration-color: #008000\">'text'</span>: <span style=\"color: #008000; text-decoration-color: #008000\">'Choppy..\\n$AMD 108 8/20c\\n$SNAP 75 8/20c \\n\\n..will check back on $RIOT </span>\n",
       "<span style=\"color: #008000; text-decoration-color: #008000\">$MARA near close'</span>,\n",
       "        <span style=\"color: #008000; text-decoration-color: #008000\">'label'</span>: <span style=\"color: #008000; text-decoration-color: #008000\">'1'</span>\n",
       "    <span style=\"font-weight: bold\">}</span>,\n",
       "    <span style=\"font-weight: bold\">{</span>\n",
       "        <span style=\"color: #008000; text-decoration-color: #008000\">'_id'</span>: <span style=\"color: #800080; text-decoration-color: #800080; font-weight: bold\">ObjectId</span><span style=\"font-weight: bold\">(</span><span style=\"color: #008000; text-decoration-color: #008000\">'62920140a2f513497a2d8a2e'</span><span style=\"font-weight: bold\">)</span>,\n",
       "        <span style=\"color: #008000; text-decoration-color: #008000\">'id'</span>: <span style=\"color: #008000; text-decoration-color: #008000\">'1464264295953453059'</span>,\n",
       "        <span style=\"color: #008000; text-decoration-color: #008000\">'text'</span>: <span style=\"color: #008000; text-decoration-color: #008000\">'$mrna 375 open Monday gap fill to 440'</span>,\n",
       "        <span style=\"color: #008000; text-decoration-color: #008000\">'label'</span>: <span style=\"color: #008000; text-decoration-color: #008000\">'1'</span>\n",
       "    <span style=\"font-weight: bold\">}</span>,\n",
       "    <span style=\"font-weight: bold\">{</span>\n",
       "        <span style=\"color: #008000; text-decoration-color: #008000\">'_id'</span>: <span style=\"color: #800080; text-decoration-color: #800080; font-weight: bold\">ObjectId</span><span style=\"font-weight: bold\">(</span><span style=\"color: #008000; text-decoration-color: #008000\">'62920140a2f513497a2dc040'</span><span style=\"font-weight: bold\">)</span>,\n",
       "        <span style=\"color: #008000; text-decoration-color: #008000\">'id'</span>: <span style=\"color: #008000; text-decoration-color: #008000\">'1446133728309243915'</span>,\n",
       "        <span style=\"color: #008000; text-decoration-color: #008000\">'text'</span>: <span style=\"color: #008000; text-decoration-color: #008000\">'$FB get with the program, bulls need you $QQQ'</span>,\n",
       "        <span style=\"color: #008000; text-decoration-color: #008000\">'label'</span>: <span style=\"color: #008000; text-decoration-color: #008000\">'1'</span>\n",
       "    <span style=\"font-weight: bold\">}</span>\n",
       "<span style=\"font-weight: bold\">]</span>\n",
       "</pre>\n"
      ],
      "text/plain": [
       "\u001b[1m[\u001b[0m\n",
       "    \u001b[1m{\u001b[0m\n",
       "        \u001b[32m'_id'\u001b[0m: \u001b[1;35mObjectId\u001b[0m\u001b[1m(\u001b[0m\u001b[32m'62920140a2f513497a2db31d'\u001b[0m\u001b[1m)\u001b[0m,\n",
       "        \u001b[32m'id'\u001b[0m: \u001b[32m'1426186117318127616'\u001b[0m,\n",
       "        \u001b[32m'text'\u001b[0m: \u001b[32m'Choppy..\\n$AMD 108 8/20c\\n$SNAP 75 8/20c \\n\\n..will check back on $RIOT \u001b[0m\n",
       "\u001b[32m$MARA near close'\u001b[0m,\n",
       "        \u001b[32m'label'\u001b[0m: \u001b[32m'1'\u001b[0m\n",
       "    \u001b[1m}\u001b[0m,\n",
       "    \u001b[1m{\u001b[0m\n",
       "        \u001b[32m'_id'\u001b[0m: \u001b[1;35mObjectId\u001b[0m\u001b[1m(\u001b[0m\u001b[32m'62920140a2f513497a2d8a2e'\u001b[0m\u001b[1m)\u001b[0m,\n",
       "        \u001b[32m'id'\u001b[0m: \u001b[32m'1464264295953453059'\u001b[0m,\n",
       "        \u001b[32m'text'\u001b[0m: \u001b[32m'$mrna 375 open Monday gap fill to 440'\u001b[0m,\n",
       "        \u001b[32m'label'\u001b[0m: \u001b[32m'1'\u001b[0m\n",
       "    \u001b[1m}\u001b[0m,\n",
       "    \u001b[1m{\u001b[0m\n",
       "        \u001b[32m'_id'\u001b[0m: \u001b[1;35mObjectId\u001b[0m\u001b[1m(\u001b[0m\u001b[32m'62920140a2f513497a2dc040'\u001b[0m\u001b[1m)\u001b[0m,\n",
       "        \u001b[32m'id'\u001b[0m: \u001b[32m'1446133728309243915'\u001b[0m,\n",
       "        \u001b[32m'text'\u001b[0m: \u001b[32m'$FB get with the program, bulls need you $QQQ'\u001b[0m,\n",
       "        \u001b[32m'label'\u001b[0m: \u001b[32m'1'\u001b[0m\n",
       "    \u001b[1m}\u001b[0m\n",
       "\u001b[1m]\u001b[0m\n"
      ]
     },
     "metadata": {},
     "output_type": "display_data"
    }
   ],
   "source": [
    "res = DB.find({\"label\": {\"$ne\": \"\"}}, projection={\"_id\": True, \"id\": True, \"text\": True, \"label\": True}, sort=[(\"labeled_at\", -1)]).limit(3)\n",
    "res = list(res)\n",
    "print(res)\n",
    "\n",
    "most_recent_id = res[0].get(\"id\")"
   ]
  },
  {
   "cell_type": "code",
   "execution_count": 18,
   "id": "67f5ed4c",
   "metadata": {},
   "outputs": [
    {
     "data": {
      "text/html": [
       "<pre style=\"white-space:pre;overflow-x:auto;line-height:normal;font-family:Menlo,'DejaVu Sans Mono',consolas,'Courier New',monospace\"><span style=\"color: #008080; text-decoration-color: #008080; font-weight: bold\">1413168669128019977</span>\n",
       "</pre>\n"
      ],
      "text/plain": [
       "\u001b[1;36m1413168669128019977\u001b[0m\n"
      ]
     },
     "metadata": {},
     "output_type": "display_data"
    }
   ],
   "source": [
    "print(most_recent_id)"
   ]
  },
  {
   "cell_type": "code",
   "execution_count": 19,
   "id": "e882ae32",
   "metadata": {},
   "outputs": [
    {
     "data": {
      "text/html": [
       "<pre style=\"white-space:pre;overflow-x:auto;line-height:normal;font-family:Menlo,'DejaVu Sans Mono',consolas,'Courier New',monospace\"><span style=\"font-weight: bold\">{</span><span style=\"color: #008000; text-decoration-color: #008000\">'n'</span>: <span style=\"color: #008080; text-decoration-color: #008080; font-weight: bold\">1</span>, <span style=\"color: #008000; text-decoration-color: #008000\">'nModified'</span>: <span style=\"color: #008080; text-decoration-color: #008080; font-weight: bold\">1</span>, <span style=\"color: #008000; text-decoration-color: #008000\">'ok'</span>: <span style=\"color: #008080; text-decoration-color: #008080; font-weight: bold\">1.0</span>, <span style=\"color: #008000; text-decoration-color: #008000\">'updatedExisting'</span>: <span style=\"color: #00ff00; text-decoration-color: #00ff00; font-style: italic\">True</span><span style=\"font-weight: bold\">}</span>\n",
       "</pre>\n"
      ],
      "text/plain": [
       "\u001b[1m{\u001b[0m\u001b[32m'n'\u001b[0m: \u001b[1;36m1\u001b[0m, \u001b[32m'nModified'\u001b[0m: \u001b[1;36m1\u001b[0m, \u001b[32m'ok'\u001b[0m: \u001b[1;36m1.0\u001b[0m, \u001b[32m'updatedExisting'\u001b[0m: \u001b[3;92mTrue\u001b[0m\u001b[1m}\u001b[0m\n"
      ]
     },
     "metadata": {},
     "output_type": "display_data"
    }
   ],
   "source": [
    "ID_TO_UPDATE = most_recent_id #\"1517129063814418433\"\n",
    "NEW_LABEL = \"1\"\n",
    "\n",
    "ack = DB.update_one({\"id\": ID_TO_UPDATE}, {\"$set\": {\"label\": NEW_LABEL}})\n",
    "print(ack.raw_result)"
   ]
  },
  {
   "cell_type": "code",
   "execution_count": null,
   "id": "a0808923",
   "metadata": {},
   "outputs": [],
   "source": []
  }
 ],
 "metadata": {
  "kernelspec": {
   "display_name": "Python 3 (ipykernel)",
   "language": "python",
   "name": "python3"
  },
  "language_info": {
   "codemirror_mode": {
    "name": "ipython",
    "version": 3
   },
   "file_extension": ".py",
   "mimetype": "text/x-python",
   "name": "python",
   "nbconvert_exporter": "python",
   "pygments_lexer": "ipython3",
   "version": "3.9.12"
  }
 },
 "nbformat": 4,
 "nbformat_minor": 5
}
