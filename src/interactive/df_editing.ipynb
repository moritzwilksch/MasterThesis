{
 "cells": [
  {
   "cell_type": "code",
   "execution_count": 13,
   "id": "d47ac6b1",
   "metadata": {},
   "outputs": [
    {
     "ename": "ModuleNotFoundError",
     "evalue": "No module named 'snorkel'",
     "output_type": "error",
     "traceback": [
      "\u001b[0;31m---------------------------------------------------------------------------\u001b[0m",
      "\u001b[0;31mModuleNotFoundError\u001b[0m                       Traceback (most recent call last)",
      "Input \u001b[0;32mIn [13]\u001b[0m, in \u001b[0;36m<cell line: 1>\u001b[0;34m()\u001b[0m\n\u001b[0;32m----> 1\u001b[0m \u001b[38;5;28;01mimport\u001b[39;00m \u001b[38;5;21;01msnorkel\u001b[39;00m\n\u001b[1;32m      3\u001b[0m \u001b[38;5;28;01mimport\u001b[39;00m \u001b[38;5;21;01mpandas\u001b[39;00m \u001b[38;5;28;01mas\u001b[39;00m \u001b[38;5;21;01mpd\u001b[39;00m\n\u001b[1;32m      4\u001b[0m \u001b[38;5;28;01mfrom\u001b[39;00m \u001b[38;5;21;01msrc\u001b[39;00m\u001b[38;5;21;01m.\u001b[39;00m\u001b[38;5;21;01mutils\u001b[39;00m\u001b[38;5;21;01m.\u001b[39;00m\u001b[38;5;21;01mdb\u001b[39;00m \u001b[38;5;28;01mimport\u001b[39;00m get_client\n",
      "\u001b[0;31mModuleNotFoundError\u001b[0m: No module named 'snorkel'"
     ]
    }
   ],
   "source": [
    "import snorkel\n",
    "\n",
    "import pandas as pd\n",
    "from src.utils.db import get_client\n",
    "\n",
    "DB = get_client()\n",
    "\n",
    "# TODO: replace by loading from parquet file once labeling is done\n",
    "df = pd.DataFrame(\n",
    "    list(\n",
    "        DB.thesis.labeled_tweets.find(\n",
    "            {\"label\": {\"$ne\": \"\"}},\n",
    "            projection={\"text\": True, \"label\": True, \"_id\": False},\n",
    "        )\n",
    "    )\n",
    ")\n",
    "\n",
    "#%%\n",
    "test_idx = df.sample(frac=0.1, random_state=42).index\n",
    "\n",
    "df_train = df[~df.index.isin(test_idx)].copy().reset_index(drop=True)\n",
    "df_test = df[df.index.isin(test_idx)].copy().reset_index(drop=True).drop(\"label\", axis=1)\n",
    "\n",
    "#%%\n",
    "from snorkel.labeling import labeling_function\n",
    "\n",
    "@labeling_function()\n",
    "def short(x):\n",
    "    return 3 if \"short $\" in x.text.lower() else -1\n",
    "\n",
    "@labeling_function()\n",
    "def bear(x):\n",
    "    return 3 if \"bearish\" in x.text.lower() else -1\n",
    "\n",
    "@labeling_function()\n",
    "def sell(x):\n",
    "    return 3 if \"selling\" in x.text.lower() else -1\n",
    "\n",
    "@labeling_function()\n",
    "def sold(x):\n",
    "    return 3 if \"sold\" in x.text.lower() else -1\n",
    "\n",
    "\n",
    "@labeling_function()\n",
    "def buying(x):\n",
    "    return 1 if \"buying\" in x.text.lower() else -1\n",
    "\n",
    "@labeling_function()\n",
    "def bought(x):\n",
    "    return 1 if \"bought\" in x.text.lower() else -1\n",
    "\n",
    "@labeling_function()\n",
    "def long_(x):\n",
    "    return 1 if \"long\" in x.text.lower() else -1\n",
    "\n",
    "@labeling_function()\n",
    "def calls(x):\n",
    "    return 1 if \"calls\" in x.text.lower() else -1\n",
    "\n",
    "\n",
    "@labeling_function()\n",
    "def interesting(x):\n",
    "    return 0 if \"interesting\" in x.text.lower() else -1\n",
    "\n",
    "\n",
    "@labeling_function()\n",
    "def spam1(x):\n",
    "    return 2 if \"chat\" in x.text.lower() else -1\n",
    "\n",
    "@labeling_function()\n",
    "def spam2(x):\n",
    "    return 2 if \"join \" in x.text.lower() else -1\n",
    "\n",
    "\n"
   ]
  },
  {
   "cell_type": "code",
   "execution_count": 2,
   "id": "93c113c4",
   "metadata": {},
   "outputs": [],
   "source": []
  }
 ],
 "metadata": {
  "kernelspec": {
   "display_name": "Python 3 (ipykernel)",
   "language": "python",
   "name": "python3"
  },
  "language_info": {
   "codemirror_mode": {
    "name": "ipython",
    "version": 3
   },
   "file_extension": ".py",
   "mimetype": "text/x-python",
   "name": "python",
   "nbconvert_exporter": "python",
   "pygments_lexer": "ipython3",
   "version": "3.9.12"
  }
 },
 "nbformat": 4,
 "nbformat_minor": 5
}
